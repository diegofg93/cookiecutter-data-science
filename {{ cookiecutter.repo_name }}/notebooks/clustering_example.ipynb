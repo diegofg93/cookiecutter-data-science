{
 "cells": [
  {
   "cell_type": "code",
   "execution_count": 1,
   "metadata": {},
   "outputs": [],
   "source": [
    "import sys\n",
    "import os\n",
    "from datetime import datetime\n",
    "from sklearn import preprocessing, impute\n",
    "from src.processing import preprocessors as pp\n",
    "from src.processing import data_management\n",
    "from src.models import clustering_training as ct\n",
    "from src.config import config\n"
   ]
  },
  {
   "cell_type": "code",
   "execution_count": 2,
   "metadata": {},
   "outputs": [],
   "source": [
    "# read training data\n",
    "data = data_management.load_dataset(file_name=config.TRAINING_DATA_FILE)[config.cfg.train.numerical_columns]"
   ]
  },
  {
   "cell_type": "code",
   "execution_count": 3,
   "metadata": {},
   "outputs": [
    {
     "data": {
      "text/html": [
       "<div>\n",
       "<style scoped>\n",
       "    .dataframe tbody tr th:only-of-type {\n",
       "        vertical-align: middle;\n",
       "    }\n",
       "\n",
       "    .dataframe tbody tr th {\n",
       "        vertical-align: top;\n",
       "    }\n",
       "\n",
       "    .dataframe thead th {\n",
       "        text-align: right;\n",
       "    }\n",
       "</style>\n",
       "<table border=\"1\" class=\"dataframe\">\n",
       "  <thead>\n",
       "    <tr style=\"text-align: right;\">\n",
       "      <th></th>\n",
       "      <th>MSSubClass</th>\n",
       "      <th>OverallQual</th>\n",
       "      <th>OverallCond</th>\n",
       "      <th>1stFlrSF</th>\n",
       "      <th>GrLivArea</th>\n",
       "      <th>BsmtFullBath</th>\n",
       "      <th>Fireplaces</th>\n",
       "      <th>GarageCars</th>\n",
       "      <th>LotFrontage</th>\n",
       "    </tr>\n",
       "  </thead>\n",
       "  <tbody>\n",
       "    <tr>\n",
       "      <th>433</th>\n",
       "      <td>60</td>\n",
       "      <td>6</td>\n",
       "      <td>5</td>\n",
       "      <td>926</td>\n",
       "      <td>1604</td>\n",
       "      <td>0</td>\n",
       "      <td>1</td>\n",
       "      <td>2</td>\n",
       "      <td>100.0</td>\n",
       "    </tr>\n",
       "    <tr>\n",
       "      <th>1389</th>\n",
       "      <td>50</td>\n",
       "      <td>6</td>\n",
       "      <td>6</td>\n",
       "      <td>869</td>\n",
       "      <td>1218</td>\n",
       "      <td>0</td>\n",
       "      <td>1</td>\n",
       "      <td>2</td>\n",
       "      <td>60.0</td>\n",
       "    </tr>\n",
       "    <tr>\n",
       "      <th>641</th>\n",
       "      <td>60</td>\n",
       "      <td>7</td>\n",
       "      <td>5</td>\n",
       "      <td>1057</td>\n",
       "      <td>1929</td>\n",
       "      <td>1</td>\n",
       "      <td>1</td>\n",
       "      <td>2</td>\n",
       "      <td>NaN</td>\n",
       "    </tr>\n",
       "    <tr>\n",
       "      <th>128</th>\n",
       "      <td>60</td>\n",
       "      <td>6</td>\n",
       "      <td>5</td>\n",
       "      <td>660</td>\n",
       "      <td>1348</td>\n",
       "      <td>0</td>\n",
       "      <td>1</td>\n",
       "      <td>2</td>\n",
       "      <td>69.0</td>\n",
       "    </tr>\n",
       "    <tr>\n",
       "      <th>63</th>\n",
       "      <td>70</td>\n",
       "      <td>7</td>\n",
       "      <td>6</td>\n",
       "      <td>902</td>\n",
       "      <td>1710</td>\n",
       "      <td>0</td>\n",
       "      <td>0</td>\n",
       "      <td>2</td>\n",
       "      <td>50.0</td>\n",
       "    </tr>\n",
       "  </tbody>\n",
       "</table>\n",
       "</div>"
      ],
      "text/plain": [
       "      MSSubClass  OverallQual  OverallCond  1stFlrSF  GrLivArea  BsmtFullBath  \\\n",
       "433           60            6            5       926       1604             0   \n",
       "1389          50            6            6       869       1218             0   \n",
       "641           60            7            5      1057       1929             1   \n",
       "128           60            6            5       660       1348             0   \n",
       "63            70            7            6       902       1710             0   \n",
       "\n",
       "      Fireplaces  GarageCars  LotFrontage  \n",
       "433            1           2        100.0  \n",
       "1389           1           2         60.0  \n",
       "641            1           2          NaN  \n",
       "128            1           2         69.0  \n",
       "63             0           2         50.0  "
      ]
     },
     "execution_count": 3,
     "metadata": {},
     "output_type": "execute_result"
    }
   ],
   "source": [
    "data.sample(5)"
   ]
  },
  {
   "cell_type": "code",
   "execution_count": 4,
   "metadata": {},
   "outputs": [
    {
     "data": {
      "text/html": [
       "<div>\n",
       "<style scoped>\n",
       "    .dataframe tbody tr th:only-of-type {\n",
       "        vertical-align: middle;\n",
       "    }\n",
       "\n",
       "    .dataframe tbody tr th {\n",
       "        vertical-align: top;\n",
       "    }\n",
       "\n",
       "    .dataframe thead th {\n",
       "        text-align: right;\n",
       "    }\n",
       "</style>\n",
       "<table border=\"1\" class=\"dataframe\">\n",
       "  <thead>\n",
       "    <tr style=\"text-align: right;\">\n",
       "      <th></th>\n",
       "      <th>MSSubClass</th>\n",
       "      <th>OverallQual</th>\n",
       "      <th>OverallCond</th>\n",
       "      <th>1stFlrSF</th>\n",
       "      <th>GrLivArea</th>\n",
       "      <th>BsmtFullBath</th>\n",
       "      <th>Fireplaces</th>\n",
       "      <th>GarageCars</th>\n",
       "      <th>LotFrontage</th>\n",
       "    </tr>\n",
       "  </thead>\n",
       "  <tbody>\n",
       "    <tr>\n",
       "      <th>count</th>\n",
       "      <td>1460.000000</td>\n",
       "      <td>1460.000000</td>\n",
       "      <td>1460.000000</td>\n",
       "      <td>1460.000000</td>\n",
       "      <td>1460.000000</td>\n",
       "      <td>1460.000000</td>\n",
       "      <td>1460.000000</td>\n",
       "      <td>1460.000000</td>\n",
       "      <td>1201.000000</td>\n",
       "    </tr>\n",
       "    <tr>\n",
       "      <th>mean</th>\n",
       "      <td>56.897260</td>\n",
       "      <td>6.099315</td>\n",
       "      <td>5.575342</td>\n",
       "      <td>1162.626712</td>\n",
       "      <td>1515.463699</td>\n",
       "      <td>0.425342</td>\n",
       "      <td>0.613014</td>\n",
       "      <td>1.767123</td>\n",
       "      <td>70.049958</td>\n",
       "    </tr>\n",
       "    <tr>\n",
       "      <th>std</th>\n",
       "      <td>42.300571</td>\n",
       "      <td>1.382997</td>\n",
       "      <td>1.112799</td>\n",
       "      <td>386.587738</td>\n",
       "      <td>525.480383</td>\n",
       "      <td>0.518911</td>\n",
       "      <td>0.644666</td>\n",
       "      <td>0.747315</td>\n",
       "      <td>24.284752</td>\n",
       "    </tr>\n",
       "    <tr>\n",
       "      <th>min</th>\n",
       "      <td>20.000000</td>\n",
       "      <td>1.000000</td>\n",
       "      <td>1.000000</td>\n",
       "      <td>334.000000</td>\n",
       "      <td>334.000000</td>\n",
       "      <td>0.000000</td>\n",
       "      <td>0.000000</td>\n",
       "      <td>0.000000</td>\n",
       "      <td>21.000000</td>\n",
       "    </tr>\n",
       "    <tr>\n",
       "      <th>25%</th>\n",
       "      <td>20.000000</td>\n",
       "      <td>5.000000</td>\n",
       "      <td>5.000000</td>\n",
       "      <td>882.000000</td>\n",
       "      <td>1129.500000</td>\n",
       "      <td>0.000000</td>\n",
       "      <td>0.000000</td>\n",
       "      <td>1.000000</td>\n",
       "      <td>59.000000</td>\n",
       "    </tr>\n",
       "    <tr>\n",
       "      <th>50%</th>\n",
       "      <td>50.000000</td>\n",
       "      <td>6.000000</td>\n",
       "      <td>5.000000</td>\n",
       "      <td>1087.000000</td>\n",
       "      <td>1464.000000</td>\n",
       "      <td>0.000000</td>\n",
       "      <td>1.000000</td>\n",
       "      <td>2.000000</td>\n",
       "      <td>69.000000</td>\n",
       "    </tr>\n",
       "    <tr>\n",
       "      <th>75%</th>\n",
       "      <td>70.000000</td>\n",
       "      <td>7.000000</td>\n",
       "      <td>6.000000</td>\n",
       "      <td>1391.250000</td>\n",
       "      <td>1776.750000</td>\n",
       "      <td>1.000000</td>\n",
       "      <td>1.000000</td>\n",
       "      <td>2.000000</td>\n",
       "      <td>80.000000</td>\n",
       "    </tr>\n",
       "    <tr>\n",
       "      <th>max</th>\n",
       "      <td>190.000000</td>\n",
       "      <td>10.000000</td>\n",
       "      <td>9.000000</td>\n",
       "      <td>4692.000000</td>\n",
       "      <td>5642.000000</td>\n",
       "      <td>3.000000</td>\n",
       "      <td>3.000000</td>\n",
       "      <td>4.000000</td>\n",
       "      <td>313.000000</td>\n",
       "    </tr>\n",
       "  </tbody>\n",
       "</table>\n",
       "</div>"
      ],
      "text/plain": [
       "        MSSubClass  OverallQual  OverallCond     1stFlrSF    GrLivArea  \\\n",
       "count  1460.000000  1460.000000  1460.000000  1460.000000  1460.000000   \n",
       "mean     56.897260     6.099315     5.575342  1162.626712  1515.463699   \n",
       "std      42.300571     1.382997     1.112799   386.587738   525.480383   \n",
       "min      20.000000     1.000000     1.000000   334.000000   334.000000   \n",
       "25%      20.000000     5.000000     5.000000   882.000000  1129.500000   \n",
       "50%      50.000000     6.000000     5.000000  1087.000000  1464.000000   \n",
       "75%      70.000000     7.000000     6.000000  1391.250000  1776.750000   \n",
       "max     190.000000    10.000000     9.000000  4692.000000  5642.000000   \n",
       "\n",
       "       BsmtFullBath   Fireplaces   GarageCars  LotFrontage  \n",
       "count   1460.000000  1460.000000  1460.000000  1201.000000  \n",
       "mean       0.425342     0.613014     1.767123    70.049958  \n",
       "std        0.518911     0.644666     0.747315    24.284752  \n",
       "min        0.000000     0.000000     0.000000    21.000000  \n",
       "25%        0.000000     0.000000     1.000000    59.000000  \n",
       "50%        0.000000     1.000000     2.000000    69.000000  \n",
       "75%        1.000000     1.000000     2.000000    80.000000  \n",
       "max        3.000000     3.000000     4.000000   313.000000  "
      ]
     },
     "execution_count": 4,
     "metadata": {},
     "output_type": "execute_result"
    }
   ],
   "source": [
    "data.describe()"
   ]
  },
  {
   "cell_type": "code",
   "execution_count": 5,
   "metadata": {},
   "outputs": [
    {
     "data": {
      "image/png": "[encoded data removed]",
      "text/plain": [
       "<Figure size 1440x720 with 9 Axes>"
      ]
     },
     "metadata": {},
     "output_type": "display_data"
    }
   ],
   "source": [
    "data.plot.hist(subplots=True, layout=(-1,3), figsize=(20,10), sharex=False, sharey=False);"
   ]
  },
  {
   "cell_type": "code",
   "execution_count": 6,
   "metadata": {},
   "outputs": [
    {
     "data": {
      "text/plain": [
       "{'transform_inputs__numerical_preprocessing__preprocessor': [None,\n",
       "  Winsorizer(distribution='quantiles', fold=0.01, variables=[])],\n",
       " 'transform_inputs__numerical_preprocessing__transformer': [PowerTransformer()],\n",
       " 'transform_inputs__numerical_preprocessing__reduce_dim': [None,\n",
       "  PCA(n_components=0.9)],\n",
       " 'clustering': [KMeans(max_iter=1000, n_clusters=6, random_state=42),\n",
       "  KMeans(max_iter=1000, n_clusters=7, random_state=42),\n",
       "  KMeans(max_iter=1000, random_state=42),\n",
       "  KMeans(max_iter=1000, n_clusters=9, random_state=42),\n",
       "  KMeans(max_iter=1000, n_clusters=10, random_state=42),\n",
       "  KMeans(max_iter=1000, n_clusters=11, random_state=42),\n",
       "  KMeans(max_iter=1000, n_clusters=12, random_state=42),\n",
       "  KMeans(max_iter=1000, n_clusters=13, random_state=42),\n",
       "  KMeans(max_iter=1000, n_clusters=14, random_state=42)]}"
      ]
     },
     "execution_count": 6,
     "metadata": {},
     "output_type": "execute_result"
    }
   ],
   "source": [
    "param_grid = ct.create_param_grid(\n",
    "        winsorizer_columns=[],\n",
    "        min_clusters=6,\n",
    "        max_clusters=15)\n",
    "\n",
    "param_grid"
   ]
  },
  {
   "cell_type": "code",
   "execution_count": 7,
   "metadata": {},
   "outputs": [
    {
     "name": "stdout",
     "output_type": "stream",
     "text": [
      "2021-01-12 10:33:47,766 — src.models.clustering_training — INFO —__init__:225 — Training clustering dataset instantiated with succes!\n",
      "2021-01-12 10:33:47,771 — src.models.clustering_training — INFO —__init__:226 — Dataset contains 1460 rows and 9 columns\n",
      "2021-01-12 10:33:47,779 — src.models.clustering_training — DEBUG —__init__:228 — 9 Numerical columns:\n",
      " ['MSSubClass', 'OverallQual', 'OverallCond', '1stFlrSF', 'GrLivArea', 'BsmtFullBath', 'Fireplaces', 'GarageCars', 'LotFrontage']\n",
      "2021-01-12 10:33:47,790 — src.models.clustering_training — INFO —__init__:230 — 0 Categorical columns: []\n",
      "2021-01-12 10:33:47,844 — src.models.clustering_training — INFO —__init__:232 — descriptive analysis:\n",
      "               count         mean         std    min     25%     50%      75%     max\n",
      "MSSubClass    1460.0    56.897260   42.300571   20.0    20.0    50.0    70.00   190.0\n",
      "OverallQual   1460.0     6.099315    1.382997    1.0     5.0     6.0     7.00    10.0\n",
      "OverallCond   1460.0     5.575342    1.112799    1.0     5.0     5.0     6.00     9.0\n",
      "1stFlrSF      1460.0  1162.626712  386.587738  334.0   882.0  1087.0  1391.25  4692.0\n",
      "GrLivArea     1460.0  1515.463699  525.480383  334.0  1129.5  1464.0  1776.75  5642.0\n",
      "BsmtFullBath  1460.0     0.425342    0.518911    0.0     0.0     0.0     1.00     3.0\n",
      "Fireplaces    1460.0     0.613014    0.644666    0.0     0.0     1.0     1.00     3.0\n",
      "GarageCars    1460.0     1.767123    0.747315    0.0     1.0     2.0     2.00     4.0\n",
      "LotFrontage   1460.0    57.623288   34.664304    0.0    42.0    63.0    79.00   313.0\n",
      "2021-01-12 10:33:47,846 — src.models.clustering_training — INFO —__init__:234 — Param grid specified:\n",
      "{'transform_inputs__numerical_preprocessing__preprocessor': [None, Winsorizer(distribution='quantiles', fold=0.01, variables=[])], 'transform_inputs__numerical_preprocessing__transformer': [PowerTransformer()], 'transform_inputs__numerical_preprocessing__reduce_dim': [None, PCA(n_components=0.9)], 'clustering': [KMeans(max_iter=1000, n_clusters=6, random_state=42), KMeans(max_iter=1000, n_clusters=7, random_state=42), KMeans(max_iter=1000, random_state=42), KMeans(max_iter=1000, n_clusters=9, random_state=42), KMeans(max_iter=1000, n_clusters=10, random_state=42), KMeans(max_iter=1000, n_clusters=11, random_state=42), KMeans(max_iter=1000, n_clusters=12, random_state=42), KMeans(max_iter=1000, n_clusters=13, random_state=42), KMeans(max_iter=1000, n_clusters=14, random_state=42)]}\n",
      "2021-01-12 10:33:47,847 — src.models.clustering_training — INFO —__init__:236 — Creating the directory indicated ...\n"
     ]
    }
   ],
   "source": [
    "clustering_training = ct.ClusteringTraining(data=data.fillna(0),\n",
    "                                            numerical_columns=config.cfg.train.numerical_columns,\n",
    "                                            categorical_columns=[],\n",
    "                                            param_grid=param_grid,\n",
    "                                            output_directory=str(config.TRAINED_MODEL_DIR))"
   ]
  },
  {
   "cell_type": "code",
   "execution_count": 8,
   "metadata": {},
   "outputs": [
    {
     "name": "stdout",
     "output_type": "stream",
     "text": [
      "2021-01-12 10:33:47,859 — src.models.clustering_training — INFO —make_data_training_report:247 — Creating html report about input data ...\n"
     ]
    },
    {
     "data": {
      "application/vnd.jupyter.widget-view+json": {
       "model_id": "8ee2e0eca3954e8b81e784a71e6f094c",
       "version_major": 2,
       "version_minor": 0
      },
      "text/plain": [
       "Summarize dataset:   0%|          | 0/24 [00:00<?, ?it/s]"
      ]
     },
     "metadata": {},
     "output_type": "display_data"
    },
    {
     "data": {
      "application/vnd.jupyter.widget-view+json": {
       "model_id": "5d768dec0de14210993f981aef419acf",
       "version_major": 2,
       "version_minor": 0
      },
      "text/plain": [
       "Generate report structure:   0%|          | 0/1 [00:00<?, ?it/s]"
      ]
     },
     "metadata": {},
     "output_type": "display_data"
    },
    {
     "data": {
      "application/vnd.jupyter.widget-view+json": {
       "model_id": "79529c2b7954450da651b41221f3e564",
       "version_major": 2,
       "version_minor": 0
      },
      "text/plain": [
       "Render HTML:   0%|          | 0/1 [00:00<?, ?it/s]"
      ]
     },
     "metadata": {},
     "output_type": "display_data"
    },
    {
     "data": {
      "application/vnd.jupyter.widget-view+json": {
       "model_id": "3f77230a37bd4e4e8ec85bd4358fe0c4",
       "version_major": 2,
       "version_minor": 0
      },
      "text/plain": [
       "Export report to file:   0%|          | 0/1 [00:00<?, ?it/s]"
      ]
     },
     "metadata": {},
     "output_type": "display_data"
    },
    {
     "name": "stdout",
     "output_type": "stream",
     "text": [
      "2021-01-12 10:34:02,665 — src.models.clustering_training — INFO —make_data_training_report:250 — The report was saved in /Users/diegofernandezgil/Desktop/projects/cookicutter_dev/trained_modelsdata_training_analysis.html...\n"
     ]
    }
   ],
   "source": [
    " clustering_training.make_data_training_report()"
   ]
  },
  {
   "cell_type": "code",
   "execution_count": 9,
   "metadata": {},
   "outputs": [
    {
     "name": "stdout",
     "output_type": "stream",
     "text": [
      "2021-01-12 10:34:02,772 — src.models.clustering_training — INFO —configure_clustering_preprocessing_pipeline:308 — configured pipeline:\n",
      " Pipeline(steps=[('transform_inputs',\n",
      "                 ColumnTransformer(transformers=[('numerical_preprocessing',\n",
      "                                                  Pipeline(steps=[('preprocessor',\n",
      "                                                                   'passthrough'),\n",
      "                                                                  ('imputer',\n",
      "                                                                   SimpleImputer()),\n",
      "                                                                  ('transformer',\n",
      "                                                                   'passthrough'),\n",
      "                                                                  ('reduce_dim',\n",
      "                                                                   'passthrough')]),\n",
      "                                                  <BoxList: ['MSSubClass', 'OverallQual', 'OverallCond', '1stFlrSF', 'GrLivArea', 'BsmtFullBath', 'Fireplaces', 'GarageCars', 'LotFrontage']>),\n",
      "                                                 ('categorical_preprocessing',\n",
      "                                                  Pipeline(steps=[('imputer',\n",
      "                                                                   SimpleImputer(strategy='most_frequent')),\n",
      "                                                                  ('transformer',\n",
      "                                                                   OneHotEncoder(handle_unknown='ignore',\n",
      "                                                                                 sparse=False))]),\n",
      "                                                  [])],\n",
      "                                   verbose=True)),\n",
      "                ('clustering', 'passthrough')])\n"
     ]
    }
   ],
   "source": [
    "clustering_training.configure_clustering_preprocessing_pipeline(\n",
    "        numerical_preprocessor=\"passthrough\",\n",
    "        numerical_imputer=impute.SimpleImputer(),\n",
    "        numerical_transformer=\"passthrough\",\n",
    "        categorical_imputer=impute.SimpleImputer(strategy='most_frequent'),\n",
    "        categorical_transformer=preprocessing.OneHotEncoder(\n",
    "            categories='auto', sparse=False, handle_unknown='ignore'),\n",
    "        reduced_dimension_algorithm=\"passthrough\",\n",
    "        cluster_algorithm=\"passthrough\"\n",
    "    )"
   ]
  },
  {
   "cell_type": "code",
   "execution_count": 10,
   "metadata": {},
   "outputs": [
    {
     "name": "stdout",
     "output_type": "stream",
     "text": [
      "2021-01-12 10:34:02,776 — src.models.clustering_training — INFO —training_grid_search:323 — Training the models\n",
      "[ColumnTransformer]  (1 of 1) Processing numerical_preprocessing, total=   0.0s\n",
      "2021-01-12 10:34:36,186 — src.models.clustering_training — DEBUG —training_grid_search:342 — Max score: 0.21052175121484587\n",
      "2021-01-12 10:34:36,186 — src.models.clustering_training — DEBUG —training_grid_search:344 — Sample per cluster: [(0, 124), (1, 94), (2, 112), (3, 130), (4, 174), (5, 130), (6, 103), (7, 108), (8, 98), (9, 94), (10, 51), (11, 76), (12, 104), (13, 62)]\n",
      "2021-01-12 10:34:36,259 — src.models.clustering_training — DEBUG —training_grid_search:346 — Best pipeline:\n",
      " {'memory': None, 'steps': [('transform_inputs', ColumnTransformer(transformers=[('numerical_preprocessing',\n",
      "                                 Pipeline(steps=[('preprocessor',\n",
      "                                                  Winsorizer(distribution='quantiles',\n",
      "                                                             fold=0.01,\n",
      "                                                             variables=[])),\n",
      "                                                 ('imputer', SimpleImputer()),\n",
      "                                                 ('transformer',\n",
      "                                                  PowerTransformer()),\n",
      "                                                 ('reduce_dim',\n",
      "                                                  PCA(n_components=0.9))]),\n",
      "                                 <BoxList: ['MSSubClass', 'OverallQual', 'OverallCond', '1stFlrSF', 'GrLivArea', 'BsmtFullBath', 'Fireplaces', 'GarageCars', 'LotFrontage']>),\n",
      "                                ('categorical_preprocessing',\n",
      "                                 Pipeline(steps=[('imputer',\n",
      "                                                  SimpleImputer(strategy='most_frequent')),\n",
      "                                                 ('transformer',\n",
      "                                                  OneHotEncoder(handle_unknown='ignore',\n",
      "                                                                sparse=False))]),\n",
      "                                 [])],\n",
      "                  verbose=True)), ('clustering', KMeans(max_iter=1000, n_clusters=14, random_state=42))], 'verbose': False, 'transform_inputs': ColumnTransformer(transformers=[('numerical_preprocessing',\n",
      "                                 Pipeline(steps=[('preprocessor',\n",
      "                                                  Winsorizer(distribution='quantiles',\n",
      "                                                             fold=0.01,\n",
      "                                                             variables=[])),\n",
      "                                                 ('imputer', SimpleImputer()),\n",
      "                                                 ('transformer',\n",
      "                                                  PowerTransformer()),\n",
      "                                                 ('reduce_dim',\n",
      "                                                  PCA(n_components=0.9))]),\n",
      "                                 <BoxList: ['MSSubClass', 'OverallQual', 'OverallCond', '1stFlrSF', 'GrLivArea', 'BsmtFullBath', 'Fireplaces', 'GarageCars', 'LotFrontage']>),\n",
      "                                ('categorical_preprocessing',\n",
      "                                 Pipeline(steps=[('imputer',\n",
      "                                                  SimpleImputer(strategy='most_frequent')),\n",
      "                                                 ('transformer',\n",
      "                                                  OneHotEncoder(handle_unknown='ignore',\n",
      "                                                                sparse=False))]),\n",
      "                                 [])],\n",
      "                  verbose=True), 'clustering': KMeans(max_iter=1000, n_clusters=14, random_state=42), 'transform_inputs__n_jobs': None, 'transform_inputs__remainder': 'drop', 'transform_inputs__sparse_threshold': 0.3, 'transform_inputs__transformer_weights': None, 'transform_inputs__transformers': [('numerical_preprocessing', Pipeline(steps=[('preprocessor',\n",
      "                 Winsorizer(distribution='quantiles', fold=0.01, variables=[])),\n",
      "                ('imputer', SimpleImputer()),\n",
      "                ('transformer', PowerTransformer()),\n",
      "                ('reduce_dim', PCA(n_components=0.9))]), <BoxList: ['MSSubClass', 'OverallQual', 'OverallCond', '1stFlrSF', 'GrLivArea', 'BsmtFullBath', 'Fireplaces', 'GarageCars', 'LotFrontage']>), ('categorical_preprocessing', Pipeline(steps=[('imputer', SimpleImputer(strategy='most_frequent')),\n",
      "                ('transformer',\n",
      "                 OneHotEncoder(handle_unknown='ignore', sparse=False))]), [])], 'transform_inputs__verbose': True, 'transform_inputs__numerical_preprocessing': Pipeline(steps=[('preprocessor',\n",
      "                 Winsorizer(distribution='quantiles', fold=0.01, variables=[])),\n",
      "                ('imputer', SimpleImputer()),\n",
      "                ('transformer', PowerTransformer()),\n",
      "                ('reduce_dim', PCA(n_components=0.9))]), 'transform_inputs__categorical_preprocessing': Pipeline(steps=[('imputer', SimpleImputer(strategy='most_frequent')),\n",
      "                ('transformer',\n",
      "                 OneHotEncoder(handle_unknown='ignore', sparse=False))]), 'transform_inputs__numerical_preprocessing__memory': None, 'transform_inputs__numerical_preprocessing__steps': [('preprocessor', Winsorizer(distribution='quantiles', fold=0.01, variables=[])), ('imputer', SimpleImputer()), ('transformer', PowerTransformer()), ('reduce_dim', PCA(n_components=0.9))], 'transform_inputs__numerical_preprocessing__verbose': False, 'transform_inputs__numerical_preprocessing__preprocessor': Winsorizer(distribution='quantiles', fold=0.01, variables=[]), 'transform_inputs__numerical_preprocessing__imputer': SimpleImputer(), 'transform_inputs__numerical_preprocessing__transformer': PowerTransformer(), 'transform_inputs__numerical_preprocessing__reduce_dim': PCA(n_components=0.9), 'transform_inputs__numerical_preprocessing__preprocessor__distribution': 'quantiles', 'transform_inputs__numerical_preprocessing__preprocessor__fold': 0.01, 'transform_inputs__numerical_preprocessing__preprocessor__tail': 'right', 'transform_inputs__numerical_preprocessing__preprocessor__variables': [], 'transform_inputs__numerical_preprocessing__imputer__add_indicator': False, 'transform_inputs__numerical_preprocessing__imputer__copy': True, 'transform_inputs__numerical_preprocessing__imputer__fill_value': None, 'transform_inputs__numerical_preprocessing__imputer__missing_values': nan, 'transform_inputs__numerical_preprocessing__imputer__strategy': 'mean', 'transform_inputs__numerical_preprocessing__imputer__verbose': 0, 'transform_inputs__numerical_preprocessing__transformer__copy': True, 'transform_inputs__numerical_preprocessing__transformer__method': 'yeo-johnson', 'transform_inputs__numerical_preprocessing__transformer__standardize': True, 'transform_inputs__numerical_preprocessing__reduce_dim__copy': True, 'transform_inputs__numerical_preprocessing__reduce_dim__iterated_power': 'auto', 'transform_inputs__numerical_preprocessing__reduce_dim__n_components': 0.9, 'transform_inputs__numerical_preprocessing__reduce_dim__random_state': None, 'transform_inputs__numerical_preprocessing__reduce_dim__svd_solver': 'auto', 'transform_inputs__numerical_preprocessing__reduce_dim__tol': 0.0, 'transform_inputs__numerical_preprocessing__reduce_dim__whiten': False, 'transform_inputs__categorical_preprocessing__memory': None, 'transform_inputs__categorical_preprocessing__steps': [('imputer', SimpleImputer(strategy='most_frequent')), ('transformer', OneHotEncoder(handle_unknown='ignore', sparse=False))], 'transform_inputs__categorical_preprocessing__verbose': False, 'transform_inputs__categorical_preprocessing__imputer': SimpleImputer(strategy='most_frequent'), 'transform_inputs__categorical_preprocessing__transformer': OneHotEncoder(handle_unknown='ignore', sparse=False), 'transform_inputs__categorical_preprocessing__imputer__add_indicator': False, 'transform_inputs__categorical_preprocessing__imputer__copy': True, 'transform_inputs__categorical_preprocessing__imputer__fill_value': None, 'transform_inputs__categorical_preprocessing__imputer__missing_values': nan, 'transform_inputs__categorical_preprocessing__imputer__strategy': 'most_frequent', 'transform_inputs__categorical_preprocessing__imputer__verbose': 0, 'transform_inputs__categorical_preprocessing__transformer__categories': 'auto', 'transform_inputs__categorical_preprocessing__transformer__drop': None, 'transform_inputs__categorical_preprocessing__transformer__dtype': <class 'numpy.float64'>, 'transform_inputs__categorical_preprocessing__transformer__handle_unknown': 'ignore', 'transform_inputs__categorical_preprocessing__transformer__sparse': False, 'clustering__algorithm': 'auto', 'clustering__copy_x': True, 'clustering__init': 'k-means++', 'clustering__max_iter': 1000, 'clustering__n_clusters': 14, 'clustering__n_init': 10, 'clustering__n_jobs': 'deprecated', 'clustering__precompute_distances': 'deprecated', 'clustering__random_state': 42, 'clustering__tol': 0.0001, 'clustering__verbose': 0}\n"
     ]
    },
    {
     "name": "stdout",
     "output_type": "stream",
     "text": [
      "2021-01-12 10:34:36,259 — src.models.clustering_training — INFO —training_grid_search:349 — Save pipeline with best model...\n",
      "2021-01-12 10:34:36,267 — src.processing.data_management — INFO —save_pipeline_model:69 — saved pipeline: clustering_pipeline.pkl\n",
      "2021-01-12 10:34:36,268 — src.models.clustering_training — INFO —training_grid_search:356 — Saving result experiment in /Users/diegofernandezgil/Desktop/projects/cookicutter_dev/trained_models\n"
     ]
    }
   ],
   "source": [
    "clustering_training.training_grid_search(\n",
    "        n_jobs=-2, scorer=ct.cv_silhouette_scorer)"
   ]
  },
  {
   "cell_type": "code",
   "execution_count": 17,
   "metadata": {},
   "outputs": [
    {
     "name": "stdout",
     "output_type": "stream",
     "text": [
      "2021-01-12 10:42:12,001 — src.models.clustering_training — INFO —create_cluster_analysis_report:428 — Create visualization report in:/Users/diegofernandezgil/Desktop/projects/cookicutter_dev/trained_models\n",
      "2021-01-12 10:42:12,002 — src.models.clustering_training — INFO —create_cluster_sumary:372 — Creating cluster variables summary\n",
      "2021-01-12 10:42:12,090 — src.models.clustering_training — INFO —create_cluster_analysis_report:436 — cluster_summary.xls saved\n",
      "2021-01-12 10:42:12,123 — src.models.clustering_training — INFO —create_cluster_analysis_report:439 — cluster_summary.html saved\n",
      "2021-01-12 10:42:12,124 — src.models.clustering_training — INFO —create_descriptive_analysis_variables:382 — Creating cluster variables summary detailed\n",
      "2021-01-12 10:42:12,533 — src.models.clustering_training — INFO —create_cluster_analysis_report:446 — descriptive_analysis_variables.xls saved\n",
      "2021-01-12 10:42:12,647 — src.models.clustering_training — INFO —create_cluster_analysis_report:449 — descriptive_analysis_variables.html saved\n",
      "2021-01-12 10:42:12,648 — src.models.clustering_training — INFO —create_cluster_analysis_report:451 — Creating cluster variables distribution plot\n",
      "2021-01-12 10:42:14,896 — src.models.clustering_training — INFO —create_cluster_analysis_report:459 — cluster_variables_distribution.png saved\n",
      "2021-01-12 10:42:15,188 — src.models.clustering_training — INFO —create_cluster_analysis_report:464 — Create pdf reporting for every variable in each cluster\n",
      "2021-01-12 10:42:21,716 — src.models.clustering_training — INFO —create_cluster_analysis_report:473 — distribution_variables_groups.pdf saved\n"
     ]
    }
   ],
   "source": [
    "clustering_training.create_cluster_analysis_report()"
   ]
  },
  {
   "cell_type": "code",
   "execution_count": 14,
   "metadata": {},
   "outputs": [
    {
     "name": "stdout",
     "output_type": "stream",
     "text": [
      "2021-01-12 10:39:50,563 — src.models.clustering_training — INFO —create_umap_cluster_representation:401 — Training UMAP ...\n",
      "2021-01-12 10:39:59,049 — src.models.clustering_training — INFO —create_umap_cluster_representation:414 — Building plot ...\n",
      "2021-01-12 10:40:00,037 — src.models.clustering_training — INFO —create_umap_cluster_representation:424 — Saving in /Users/diegofernandezgil/Desktop/projects/cookicutter_dev/trained_models/index.html...\n"
     ]
    }
   ],
   "source": [
    "clustering_training.create_umap_cluster_representation(\n",
    "        neighbors=20, n_components=3, min_dist=.5,\n",
    "        #hover_name=data[\"user_id\"].astype(str),\n",
    "        #animation_frame=df.index.get_level_values(\"month\").astype(str),\n",
    "        animation_group=\"cluster\",\n",
    "        hover_data=clustering_training.categorical_columns+clustering_training.numerical_columns)"
   ]
  },
  {
   "cell_type": "code",
   "execution_count": null,
   "metadata": {},
   "outputs": [],
   "source": []
  }
 ],
 "metadata": {
  "kernelspec": {
   "display_name": "cookicutter_dev",
   "language": "python",
   "name": "cookicutter_dev"
  },
  "language_info": {
   "codemirror_mode": {
    "name": "ipython",
    "version": 3
   },
   "file_extension": ".py",
   "mimetype": "text/x-python",
   "name": "python",
   "nbconvert_exporter": "python",
   "pygments_lexer": "ipython3",
   "version": "3.8.5"
  }
 },
 "nbformat": 4,
 "nbformat_minor": 4
}
